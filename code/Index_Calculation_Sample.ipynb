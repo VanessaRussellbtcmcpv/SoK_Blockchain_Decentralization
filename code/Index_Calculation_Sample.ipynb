{
 "cells": [
  {
   "cell_type": "code",
   "execution_count": 62,
   "metadata": {},
   "outputs": [],
   "source": [
    "import pandas as pd\n",
    "import numpy as np\n",
    "from datetime import date, timedelta, datetime\n",
    "import pytz"
   ]
  },
  {
   "cell_type": "code",
   "execution_count": 65,
   "metadata": {},
   "outputs": [
    {
     "data": {
      "text/html": [
       "<div>\n",
       "<style scoped>\n",
       "    .dataframe tbody tr th:only-of-type {\n",
       "        vertical-align: middle;\n",
       "    }\n",
       "\n",
       "    .dataframe tbody tr th {\n",
       "        vertical-align: top;\n",
       "    }\n",
       "\n",
       "    .dataframe thead th {\n",
       "        text-align: right;\n",
       "    }\n",
       "</style>\n",
       "<table border=\"1\" class=\"dataframe\">\n",
       "  <thead>\n",
       "    <tr style=\"text-align: right;\">\n",
       "      <th></th>\n",
       "      <th>value</th>\n",
       "      <th>block_timestamp</th>\n",
       "    </tr>\n",
       "  </thead>\n",
       "  <tbody>\n",
       "    <tr>\n",
       "      <th>0</th>\n",
       "      <td>0</td>\n",
       "      <td>1668124739</td>\n",
       "    </tr>\n",
       "    <tr>\n",
       "      <th>1</th>\n",
       "      <td>117286251058621419</td>\n",
       "      <td>1668124739</td>\n",
       "    </tr>\n",
       "    <tr>\n",
       "      <th>2</th>\n",
       "      <td>0</td>\n",
       "      <td>1668124739</td>\n",
       "    </tr>\n",
       "    <tr>\n",
       "      <th>3</th>\n",
       "      <td>0</td>\n",
       "      <td>1668124739</td>\n",
       "    </tr>\n",
       "    <tr>\n",
       "      <th>4</th>\n",
       "      <td>0</td>\n",
       "      <td>1668124739</td>\n",
       "    </tr>\n",
       "  </tbody>\n",
       "</table>\n",
       "</div>"
      ],
      "text/plain": [
       "                value  block_timestamp\n",
       "0                   0       1668124739\n",
       "1  117286251058621419       1668124739\n",
       "2                   0       1668124739\n",
       "3                   0       1668124739\n",
       "4                   0       1668124739"
      ]
     },
     "execution_count": 65,
     "metadata": {},
     "output_type": "execute_result"
    }
   ],
   "source": [
    "# Read in Transaction Data\n",
    "data = pd.read_csv('transaction.csv')\n",
    "data.head(5)"
   ]
  },
  {
   "cell_type": "code",
   "execution_count": 66,
   "metadata": {},
   "outputs": [],
   "source": [
    "\"\"\"\n",
    "def index_calc(data):\n",
    "\n",
    "            :param data: dataframe containing transaction value and timestamp of the transaction (block_timestamp)\n",
    "            :type data: pandas.DataFrame\n",
    "            :param start: the start date of calculation 00:00:00 UTC\n",
    "            :type start: datetime.date object\n",
    "            :param end: the end date of calculation 23:59:59 UTC\n",
    "            :type end: datetime.date object\n",
    "\n",
    "    returns pandas dataframe with decentralization index value and date\n",
    "\"\"\"\n",
    "\n",
    "def index_calc(data, start, end):\n",
    "    tz = pytz.timezone('UTC')\n",
    "    data['datetime'] = data['block_timestamp'].apply(lambda x: datetime.fromtimestamp(x,tz))\n",
    "    duration= pd.date_range(start=start, end=end)\n",
    "    days = np.size(duration)\n",
    "    Entropy = pd.DataFrame(np.zeros(days), columns=['val'])\n",
    "    Entropy['date'] = duration\n",
    "\n",
    "    for i in range(0, days):\n",
    "        start_date = start + timedelta(days=i)\n",
    "        end_date = start_date + timedelta(days=1)\n",
    "        Entropy.loc[i,'val'] = index(data[(data['datetime'].dt.date >= start_date) & (data['datetime'].dt.date < end_date)].copy())\n",
    "    \n",
    "    return Entropy\n",
    "\n",
    "def index(df):\n",
    "    df['value'] = df['value'].astype(float)\n",
    "    df['prop'] = df['value']/df['value'].sum() \n",
    "    H = -df['prop']*np.log2(df['prop'])\n",
    "    E = H.sum()\n",
    "    V = 2**E\n",
    "    return V"
   ]
  },
  {
   "cell_type": "code",
   "execution_count": 82,
   "metadata": {},
   "outputs": [
    {
     "name": "stderr",
     "output_type": "stream",
     "text": [
      "/Users/xma/opt/anaconda3/lib/python3.9/site-packages/pandas/core/arraylike.py:402: RuntimeWarning: divide by zero encountered in log2\n",
      "  result = getattr(ufunc, method)(*inputs, **kwargs)\n",
      "/Users/xma/opt/anaconda3/lib/python3.9/site-packages/pandas/core/arraylike.py:402: RuntimeWarning: divide by zero encountered in log2\n",
      "  result = getattr(ufunc, method)(*inputs, **kwargs)\n"
     ]
    }
   ],
   "source": [
    "#input transaction data and desired date range\n",
    "#returns index value 1 if specification range exceeds data \n",
    "start = date(2022,11,10)\n",
    "end = date(2022,11,13)\n",
    "results = index_calc(data,start,end)"
   ]
  },
  {
   "cell_type": "code",
   "execution_count": 83,
   "metadata": {},
   "outputs": [
    {
     "data": {
      "text/html": [
       "<div>\n",
       "<style scoped>\n",
       "    .dataframe tbody tr th:only-of-type {\n",
       "        vertical-align: middle;\n",
       "    }\n",
       "\n",
       "    .dataframe tbody tr th {\n",
       "        vertical-align: top;\n",
       "    }\n",
       "\n",
       "    .dataframe thead th {\n",
       "        text-align: right;\n",
       "    }\n",
       "</style>\n",
       "<table border=\"1\" class=\"dataframe\">\n",
       "  <thead>\n",
       "    <tr style=\"text-align: right;\">\n",
       "      <th></th>\n",
       "      <th>val</th>\n",
       "      <th>date</th>\n",
       "    </tr>\n",
       "  </thead>\n",
       "  <tbody>\n",
       "    <tr>\n",
       "      <th>0</th>\n",
       "      <td>13.089093</td>\n",
       "      <td>2022-11-10</td>\n",
       "    </tr>\n",
       "    <tr>\n",
       "      <th>1</th>\n",
       "      <td>13.558045</td>\n",
       "      <td>2022-11-11</td>\n",
       "    </tr>\n",
       "    <tr>\n",
       "      <th>2</th>\n",
       "      <td>1.000000</td>\n",
       "      <td>2022-11-12</td>\n",
       "    </tr>\n",
       "    <tr>\n",
       "      <th>3</th>\n",
       "      <td>1.000000</td>\n",
       "      <td>2022-11-13</td>\n",
       "    </tr>\n",
       "  </tbody>\n",
       "</table>\n",
       "</div>"
      ],
      "text/plain": [
       "         val       date\n",
       "0  13.089093 2022-11-10\n",
       "1  13.558045 2022-11-11\n",
       "2   1.000000 2022-11-12\n",
       "3   1.000000 2022-11-13"
      ]
     },
     "execution_count": 83,
     "metadata": {},
     "output_type": "execute_result"
    }
   ],
   "source": [
    "#sample data from 2022-11-10 to 2022-11-11\n",
    "results"
   ]
  },
  {
   "cell_type": "code",
   "execution_count": null,
   "metadata": {},
   "outputs": [],
   "source": []
  }
 ],
 "metadata": {
  "kernelspec": {
   "display_name": "base",
   "language": "python",
   "name": "python3"
  },
  "language_info": {
   "codemirror_mode": {
    "name": "ipython",
    "version": 3
   },
   "file_extension": ".py",
   "mimetype": "text/x-python",
   "name": "python",
   "nbconvert_exporter": "python",
   "pygments_lexer": "ipython3",
   "version": "3.9.12"
  },
  "orig_nbformat": 4
 },
 "nbformat": 4,
 "nbformat_minor": 2
}
